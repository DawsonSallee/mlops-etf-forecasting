{
 "cells": [
  {
   "cell_type": "code",
   "execution_count": 1,
   "id": "b73c8055",
   "metadata": {},
   "outputs": [],
   "source": [
    "import pandas as pd\n",
    "import numpy as np\n",
    "\n",
    "# Define the target ETF and the feature tickers\n",
    "TARGET_TICKER = 'SPY'\n",
    "FEATURE_TICKERS = ['QQQ', 'UVXY', 'TLT', 'GLD', 'AAPL', 'MSFT']\n",
    "ALL_TICKERS = [TARGET_TICKER] + FEATURE_TICKERS\n",
    "\n",
    "# Load all tickers into a single DataFrame\n",
    "all_data = []\n",
    "for ticker in ALL_TICKERS:\n",
    "    df = pd.read_csv(f'../data/raw/{ticker}.csv', index_col='Date', parse_dates=True)\n",
    "    all_data.append(df)\n",
    "\n",
    "# Concatenate along columns\n",
    "full_df = pd.concat(all_data, axis=1).dropna()\n"
   ]
  },
  {
   "cell_type": "code",
   "execution_count": 2,
   "id": "ad4f024a",
   "metadata": {},
   "outputs": [],
   "source": [
    "# Define the target: 1 if next day's close is higher, 0 otherwise\n",
    "full_df['target'] = (full_df['SPY'].shift(-1) > full_df['SPY']).astype(int)"
   ]
  },
  {
   "cell_type": "code",
   "execution_count": 3,
   "id": "12c85438",
   "metadata": {},
   "outputs": [],
   "source": [
    "# Feature Creation\n",
    "\n",
    "returns_df = full_df.drop('target', axis=1).pct_change()\n",
    "\n",
    "# Moving Averages\n",
    "full_df['spy_ma_50'] = full_df['SPY'].rolling(window=50).mean()\n",
    "full_df['spy_ma_200'] = full_df['SPY'].rolling(window=200).mean()\n",
    "\n",
    "# Relative Strength Index (RSI)\n",
    "delta = full_df['SPY'].diff()\n",
    "gain = (delta.where(delta > 0, 0)).rolling(window=14).mean()\n",
    "loss = (-delta.where(delta < 0, 0)).rolling(window=14).mean()\n",
    "rs = gain / loss\n",
    "full_df['spy_rsi'] = 100 - (100 / (1 + rs))\n",
    "\n",
    "for ticker in ALL_TICKERS:\n",
    "    for lag in [1, 3, 5, 10]:\n",
    "        returns_df[f'{ticker}_return_lag_{lag}'] = returns_df[ticker].shift(lag)\n",
    "\n",
    "full_df['spy_vol_30'] = returns_df['SPY'].rolling(window=30).std()"
   ]
  },
  {
   "cell_type": "code",
   "execution_count": 4,
   "id": "11ec8610",
   "metadata": {},
   "outputs": [
    {
     "name": "stdout",
     "output_type": "stream",
     "text": [
      "Final Dataset Shape: (588, 33)\n",
      "Final Dataset Head:\n",
      "             spy_ma_50  spy_ma_200    spy_rsi  spy_vol_30  SPY_return_lag_1  \\\n",
      "Date                                                                          \n",
      "2015-09-22  171.654213  173.456025  55.549734    0.017101          0.005168   \n",
      "2015-09-23  171.383223  173.413873  48.395228    0.017056         -0.012980   \n",
      "2015-09-24  171.101549  173.367344  46.782706    0.017046         -0.001599   \n",
      "2015-09-25  170.790536  173.326376  52.782715    0.017049         -0.003616   \n",
      "2015-09-28  170.394464  173.265483  31.414971    0.017505         -0.000259   \n",
      "\n",
      "            SPY_return_lag_3  SPY_return_lag_5  SPY_return_lag_10  \\\n",
      "Date                                                                \n",
      "2015-09-22         -0.002248          0.012499           0.025132   \n",
      "2015-09-23         -0.016342          0.008667          -0.013372   \n",
      "2015-09-24          0.005168         -0.002248           0.005442   \n",
      "2015-09-25         -0.012980         -0.016342           0.004544   \n",
      "2015-09-28         -0.001599          0.005168          -0.003710   \n",
      "\n",
      "            QQQ_return_lag_1  QQQ_return_lag_3  ...  GLD_return_lag_10  \\\n",
      "Date                                            ...                      \n",
      "2015-09-22          0.003133          0.000374  ...           0.000279   \n",
      "2015-09-23         -0.014951         -0.014223  ...          -0.012928   \n",
      "2015-09-24          0.000768          0.003133  ...           0.002356   \n",
      "2015-09-25         -0.003647         -0.014951  ...          -0.002068   \n",
      "2015-09-28         -0.008478          0.000768  ...           0.000565   \n",
      "\n",
      "            AAPL_return_lag_1  AAPL_return_lag_3  AAPL_return_lag_5  \\\n",
      "Date                                                                  \n",
      "2015-09-22           0.015514          -0.021390           0.008412   \n",
      "2015-09-23          -0.015711          -0.004126           0.001118   \n",
      "2015-09-24           0.008113           0.015514          -0.021390   \n",
      "2015-09-25           0.005948          -0.015711          -0.004126   \n",
      "2015-09-28          -0.002522           0.008113           0.015514   \n",
      "\n",
      "            AAPL_return_lag_10  MSFT_return_lag_1  MSFT_return_lag_3  \\\n",
      "Date                                                                   \n",
      "2015-09-22            0.027821           0.014490          -0.001129   \n",
      "2015-09-23           -0.019232          -0.004761          -0.017401   \n",
      "2015-09-24            0.021970          -0.000684           0.014490   \n",
      "2015-09-25            0.014569           0.000912          -0.004761   \n",
      "2015-09-28            0.009631           0.000683          -0.000684   \n",
      "\n",
      "            MSFT_return_lag_5  MSFT_return_lag_10  target  \n",
      "Date                                                       \n",
      "2015-09-22           0.021840            0.030040       0  \n",
      "2015-09-23           0.007276           -0.018683       0  \n",
      "2015-09-24          -0.001129            0.005108       0  \n",
      "2015-09-25          -0.017401            0.004389       0  \n",
      "2015-09-28           0.014490           -0.010120       1  \n",
      "\n",
      "[5 rows x 33 columns]\n"
     ]
    }
   ],
   "source": [
    "# Merge features - this requires careful index alignment\n",
    "features = pd.concat([\n",
    "    full_df[['spy_ma_50', 'spy_ma_200', 'spy_rsi', 'spy_vol_30']],\n",
    "    returns_df.drop(ALL_TICKERS, axis=1) # Drop the raw return columns, keep the lagged ones\n",
    "], axis=1)\n",
    "\n",
    "# Combine features with the target\n",
    "final_dataset = pd.concat([features, full_df['target']], axis=1)\n",
    "\n",
    "# Drop all rows with NaN values created by rolling windows and lags\n",
    "final_dataset.dropna(inplace=True)\n",
    "\n",
    "print(\"Final Dataset Shape:\", final_dataset.shape)\n",
    "print(\"Final Dataset Head:\")\n",
    "print(final_dataset.head())"
   ]
  },
  {
   "cell_type": "code",
   "execution_count": null,
   "id": "46e25a25",
   "metadata": {},
   "outputs": [],
   "source": [
    "PROCESSED_DATA_PATH = '../data/processed/etf_features.parquet'\n",
    "final_dataset.to_parquet(PROCESSED_DATA_PATH)\n",
    "print(f\"Saved processed data to {PROCESSED_DATA_PATH}\")"
   ]
  }
 ],
 "metadata": {
  "kernelspec": {
   "display_name": ".venv",
   "language": "python",
   "name": "python3"
  },
  "language_info": {
   "codemirror_mode": {
    "name": "ipython",
    "version": 3
   },
   "file_extension": ".py",
   "mimetype": "text/x-python",
   "name": "python",
   "nbconvert_exporter": "python",
   "pygments_lexer": "ipython3",
   "version": "3.12.7"
  }
 },
 "nbformat": 4,
 "nbformat_minor": 5
}
