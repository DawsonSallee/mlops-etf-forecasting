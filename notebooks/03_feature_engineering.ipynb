{
 "cells": [
  {
   "cell_type": "code",
   "execution_count": 1,
   "id": "b73c8055",
   "metadata": {
    "execution": {
     "iopub.execute_input": "2025-08-31T14:25:40.875880Z",
     "iopub.status.busy": "2025-08-31T14:25:40.875880Z",
     "iopub.status.idle": "2025-08-31T14:25:41.360982Z",
     "shell.execute_reply": "2025-08-31T14:25:41.360982Z"
    }
   },
   "outputs": [],
   "source": [
    "import pandas as pd\n",
    "import numpy as np\n",
    "\n",
    "# Define the target ETF and the feature tickers\n",
    "TARGET_TICKER = 'SPY'\n",
    "FEATURE_TICKERS = ['QQQ', 'UVXY', 'TLT', 'GLD', 'AAPL', 'MSFT']\n",
    "ALL_TICKERS = [TARGET_TICKER] + FEATURE_TICKERS\n",
    "\n",
    "# Load all tickers into a single DataFrame\n",
    "all_data = []\n",
    "for ticker in ALL_TICKERS:\n",
    "    df = pd.read_csv(f'../data/raw/{ticker}.csv', index_col='Date', parse_dates=True)\n",
    "    all_data.append(df)\n",
    "\n",
    "# Concatenate along columns\n",
    "full_df = pd.concat(all_data, axis=1).dropna()\n"
   ]
  },
  {
   "cell_type": "code",
   "execution_count": 2,
   "id": "ad4f024a",
   "metadata": {
    "execution": {
     "iopub.execute_input": "2025-08-31T14:25:41.363988Z",
     "iopub.status.busy": "2025-08-31T14:25:41.362987Z",
     "iopub.status.idle": "2025-08-31T14:25:41.367472Z",
     "shell.execute_reply": "2025-08-31T14:25:41.367472Z"
    }
   },
   "outputs": [],
   "source": [
    "# Define the target: 1 if next day's close is higher, 0 otherwise\n",
    "full_df['target'] = (full_df['SPY'].shift(-1) > full_df['SPY']).astype(int)"
   ]
  },
  {
   "cell_type": "code",
   "execution_count": 3,
   "id": "12c85438",
   "metadata": {
    "execution": {
     "iopub.execute_input": "2025-08-31T14:25:41.369477Z",
     "iopub.status.busy": "2025-08-31T14:25:41.369477Z",
     "iopub.status.idle": "2025-08-31T14:25:41.381801Z",
     "shell.execute_reply": "2025-08-31T14:25:41.381801Z"
    }
   },
   "outputs": [],
   "source": [
    "# Feature Creation\n",
    "\n",
    "returns_df = full_df.drop('target', axis=1).pct_change()\n",
    "\n",
    "# Moving Averages\n",
    "full_df['spy_ma_50'] = full_df['SPY'].rolling(window=50).mean()\n",
    "full_df['spy_ma_200'] = full_df['SPY'].rolling(window=200).mean()\n",
    "\n",
    "# Relative Strength Index (RSI)\n",
    "delta = full_df['SPY'].diff()\n",
    "gain = (delta.where(delta > 0, 0)).rolling(window=14).mean()\n",
    "loss = (-delta.where(delta < 0, 0)).rolling(window=14).mean()\n",
    "rs = gain / loss\n",
    "full_df['spy_rsi'] = 100 - (100 / (1 + rs))\n",
    "\n",
    "for ticker in ALL_TICKERS:\n",
    "    for lag in [1, 3, 5, 10]:\n",
    "        returns_df[f'{ticker}_return_lag_{lag}'] = returns_df[ticker].shift(lag)\n",
    "\n",
    "full_df['spy_vol_30'] = returns_df['SPY'].rolling(window=30).std()"
   ]
  },
  {
   "cell_type": "code",
   "execution_count": 4,
   "id": "11ec8610",
   "metadata": {
    "execution": {
     "iopub.execute_input": "2025-08-31T14:25:41.383807Z",
     "iopub.status.busy": "2025-08-31T14:25:41.383807Z",
     "iopub.status.idle": "2025-08-31T14:25:41.394142Z",
     "shell.execute_reply": "2025-08-31T14:25:41.394142Z"
    }
   },
   "outputs": [
    {
     "name": "stdout",
     "output_type": "stream",
     "text": [
      "Final Dataset Shape: (0, 33)\n",
      "Final Dataset Head:\n",
      "Empty DataFrame\n",
      "Columns: [spy_ma_50, spy_ma_200, spy_rsi, spy_vol_30, SPY_return_lag_1, SPY_return_lag_3, SPY_return_lag_5, SPY_return_lag_10, QQQ_return_lag_1, QQQ_return_lag_3, QQQ_return_lag_5, QQQ_return_lag_10, UVXY_return_lag_1, UVXY_return_lag_3, UVXY_return_lag_5, UVXY_return_lag_10, TLT_return_lag_1, TLT_return_lag_3, TLT_return_lag_5, TLT_return_lag_10, GLD_return_lag_1, GLD_return_lag_3, GLD_return_lag_5, GLD_return_lag_10, AAPL_return_lag_1, AAPL_return_lag_3, AAPL_return_lag_5, AAPL_return_lag_10, MSFT_return_lag_1, MSFT_return_lag_3, MSFT_return_lag_5, MSFT_return_lag_10, target]\n",
      "Index: []\n",
      "\n",
      "[0 rows x 33 columns]\n"
     ]
    }
   ],
   "source": [
    "# Merge features - this requires careful index alignment\n",
    "features = pd.concat([\n",
    "    full_df[['spy_ma_50', 'spy_ma_200', 'spy_rsi', 'spy_vol_30']],\n",
    "    returns_df.drop(ALL_TICKERS, axis=1) # Drop the raw return columns, keep the lagged ones\n",
    "], axis=1)\n",
    "\n",
    "# Combine features with the target\n",
    "final_dataset = pd.concat([features, full_df['target']], axis=1)\n",
    "\n",
    "# Drop all rows with NaN values created by rolling windows and lags\n",
    "final_dataset.dropna(inplace=True)\n",
    "\n",
    "print(\"Final Dataset Shape:\", final_dataset.shape)\n",
    "print(\"Final Dataset Head:\")\n",
    "print(final_dataset.head())"
   ]
  },
  {
   "cell_type": "code",
   "execution_count": 5,
   "id": "46e25a25",
   "metadata": {
    "execution": {
     "iopub.execute_input": "2025-08-31T14:25:41.396150Z",
     "iopub.status.busy": "2025-08-31T14:25:41.396150Z",
     "iopub.status.idle": "2025-08-31T14:25:41.423944Z",
     "shell.execute_reply": "2025-08-31T14:25:41.423944Z"
    }
   },
   "outputs": [
    {
     "name": "stdout",
     "output_type": "stream",
     "text": [
      "Saved processed data to ../data/processed/etf_features.parquet\n"
     ]
    }
   ],
   "source": [
    "PROCESSED_DATA_PATH = '../data/processed/etf_features.parquet'\n",
    "final_dataset.to_parquet(PROCESSED_DATA_PATH)\n",
    "print(f\"Saved processed data to {PROCESSED_DATA_PATH}\")"
   ]
  }
 ],
 "metadata": {
  "kernelspec": {
   "display_name": "Python 3",
   "language": "python",
   "name": "python3"
  },
  "language_info": {
   "codemirror_mode": {
    "name": "ipython",
    "version": 3
   },
   "file_extension": ".py",
   "mimetype": "text/x-python",
   "name": "python",
   "nbconvert_exporter": "python",
   "pygments_lexer": "ipython3",
   "version": "3.12.7"
  }
 },
 "nbformat": 4,
 "nbformat_minor": 5
}
