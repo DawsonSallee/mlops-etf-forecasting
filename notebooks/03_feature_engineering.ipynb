{
 "cells": [
  {
   "cell_type": "code",
   "execution_count": 1,
   "id": "b73c8055",
   "metadata": {
    "execution": {
     "iopub.execute_input": "2025-08-31T16:18:18.434524Z",
     "iopub.status.busy": "2025-08-31T16:18:18.434524Z",
     "iopub.status.idle": "2025-08-31T16:18:19.079705Z",
     "shell.execute_reply": "2025-08-31T16:18:19.079199Z"
    }
   },
   "outputs": [],
   "source": [
    "import pandas as pd\n",
    "import numpy as np\n",
    "\n",
    "# Define the target ETF and the feature tickers\n",
    "TARGET_TICKER = 'SPY'\n",
    "FEATURE_TICKERS = ['QQQ', 'UVXY', 'TLT', 'GLD', 'AAPL', 'MSFT']\n",
    "ALL_TICKERS = [TARGET_TICKER] + FEATURE_TICKERS\n",
    "\n",
    "# Load all tickers into a single DataFrame\n",
    "all_data = []\n",
    "for ticker in ALL_TICKERS:\n",
    "    df = pd.read_csv(f'../data/raw/{ticker}.csv', index_col='Date', parse_dates=True)\n",
    "    all_data.append(df)\n",
    "\n",
    "# Concatenate along columns\n",
    "full_df = pd.concat(all_data, axis=1).dropna()\n"
   ]
  },
  {
   "cell_type": "code",
   "execution_count": 2,
   "id": "ad4f024a",
   "metadata": {
    "execution": {
     "iopub.execute_input": "2025-08-31T16:18:19.081711Z",
     "iopub.status.busy": "2025-08-31T16:18:19.081711Z",
     "iopub.status.idle": "2025-08-31T16:18:19.085811Z",
     "shell.execute_reply": "2025-08-31T16:18:19.085811Z"
    }
   },
   "outputs": [],
   "source": [
    "# Define the target: 1 if next day's close is higher, 0 otherwise\n",
    "full_df['target'] = (full_df['SPY'].shift(-1) > full_df['SPY']).astype(int)"
   ]
  },
  {
   "cell_type": "code",
   "execution_count": 3,
   "id": "12c85438",
   "metadata": {
    "execution": {
     "iopub.execute_input": "2025-08-31T16:18:19.087819Z",
     "iopub.status.busy": "2025-08-31T16:18:19.087819Z",
     "iopub.status.idle": "2025-08-31T16:18:19.106911Z",
     "shell.execute_reply": "2025-08-31T16:18:19.106400Z"
    }
   },
   "outputs": [],
   "source": [
    "# Feature Creation\n",
    "\n",
    "returns_df = full_df.drop('target', axis=1).pct_change()\n",
    "\n",
    "# Moving Averages\n",
    "full_df['spy_ma_50'] = full_df['SPY'].rolling(window=50).mean()\n",
    "full_df['spy_ma_200'] = full_df['SPY'].rolling(window=200).mean()\n",
    "\n",
    "# Relative Strength Index (RSI)\n",
    "delta = full_df['SPY'].diff()\n",
    "gain = (delta.where(delta > 0, 0)).rolling(window=14).mean()\n",
    "loss = (-delta.where(delta < 0, 0)).rolling(window=14).mean()\n",
    "rs = gain / loss\n",
    "full_df['spy_rsi'] = 100 - (100 / (1 + rs))\n",
    "\n",
    "for ticker in ALL_TICKERS:\n",
    "    for lag in [1, 3, 5, 10]:\n",
    "        returns_df[f'{ticker}_return_lag_{lag}'] = returns_df[ticker].shift(lag)\n",
    "\n",
    "full_df['spy_vol_30'] = returns_df['SPY'].rolling(window=30).std()"
   ]
  },
  {
   "cell_type": "code",
   "execution_count": 4,
   "id": "11ec8610",
   "metadata": {
    "execution": {
     "iopub.execute_input": "2025-08-31T16:18:19.108916Z",
     "iopub.status.busy": "2025-08-31T16:18:19.108916Z",
     "iopub.status.idle": "2025-08-31T16:18:19.124096Z",
     "shell.execute_reply": "2025-08-31T16:18:19.124096Z"
    }
   },
   "outputs": [
    {
     "name": "stdout",
     "output_type": "stream",
     "text": [
      "Final Dataset Shape: (3288, 33)\n",
      "Final Dataset Head:\n",
      "             spy_ma_50  spy_ma_200    spy_rsi  spy_vol_30  SPY_return_lag_1  \\\n",
      "Date                                                                          \n",
      "2012-07-19  105.600180  103.310573  68.405222    0.009913          0.007407   \n",
      "2012-07-20  105.622857  103.413266  51.627099    0.010106          0.002621   \n",
      "2012-07-23  105.619226  103.502369  44.246455    0.010235         -0.009148   \n",
      "2012-07-24  105.603668  103.578793  36.190334    0.010075         -0.010113   \n",
      "2012-07-25  105.612253  103.658380  38.217947    0.009873         -0.008587   \n",
      "\n",
      "            SPY_return_lag_3  SPY_return_lag_5  SPY_return_lag_10  \\\n",
      "Date                                                                \n",
      "2012-07-19         -0.002357         -0.004845          -0.004512   \n",
      "2012-07-20          0.006867          0.016778          -0.009503   \n",
      "2012-07-23          0.007407         -0.002357          -0.001255   \n",
      "2012-07-24          0.002621          0.006867          -0.008720   \n",
      "2012-07-25         -0.009148          0.007407           0.000149   \n",
      "\n",
      "            QQQ_return_lag_1  QQQ_return_lag_3  ...  GLD_return_lag_10  \\\n",
      "Date                                            ...                      \n",
      "2012-07-19          0.013537         -0.002840  ...          -0.011305   \n",
      "2012-07-20          0.011027          0.005222  ...          -0.012654   \n",
      "2012-07-23         -0.013211          0.013537  ...           0.002147   \n",
      "2012-07-24         -0.012142          0.011027  ...          -0.012270   \n",
      "2012-07-25         -0.007879         -0.013211  ...           0.005521   \n",
      "\n",
      "            AAPL_return_lag_1  AAPL_return_lag_3  AAPL_return_lag_5  \\\n",
      "Date                                                                  \n",
      "2012-07-19          -0.001121           0.003206          -0.009149   \n",
      "2012-07-20           0.013295           0.000050           0.010135   \n",
      "2012-07-23          -0.016311          -0.001121           0.003206   \n",
      "2012-07-24          -0.000778           0.013295           0.000050   \n",
      "2012-07-25          -0.004819          -0.016311          -0.001121   \n",
      "\n",
      "            AAPL_return_lag_10  MSFT_return_lag_1  MSFT_return_lag_3  \\\n",
      "Date                                                                   \n",
      "2012-07-19            0.017567           0.026635           0.001702   \n",
      "2012-07-20           -0.006656           0.007225           0.007473   \n",
      "2012-07-23            0.013221          -0.017933           0.026635   \n",
      "2012-07-24           -0.009252          -0.027888           0.007225   \n",
      "2012-07-25           -0.006215          -0.004440          -0.017933   \n",
      "\n",
      "            MSFT_return_lag_5  MSFT_return_lag_10  target  \n",
      "Date                                                       \n",
      "2012-07-19          -0.022867           -0.001951       0  \n",
      "2012-07-20           0.026545           -0.016612       0  \n",
      "2012-07-23           0.001702           -0.006293       0  \n",
      "2012-07-24           0.007473           -0.008667       1  \n",
      "2012-07-25           0.026635           -0.014795       1  \n",
      "\n",
      "[5 rows x 33 columns]\n"
     ]
    }
   ],
   "source": [
    "# Merge features - this requires careful index alignment\n",
    "features = pd.concat([\n",
    "    full_df[['spy_ma_50', 'spy_ma_200', 'spy_rsi', 'spy_vol_30']],\n",
    "    returns_df.drop(ALL_TICKERS, axis=1) # Drop the raw return columns, keep the lagged ones\n",
    "], axis=1)\n",
    "\n",
    "# Combine features with the target\n",
    "final_dataset = pd.concat([features, full_df['target']], axis=1)\n",
    "\n",
    "# Drop all rows with NaN values created by rolling windows and lags\n",
    "final_dataset.dropna(inplace=True)\n",
    "\n",
    "print(\"Final Dataset Shape:\", final_dataset.shape)\n",
    "print(\"Final Dataset Head:\")\n",
    "print(final_dataset.head())"
   ]
  },
  {
   "cell_type": "code",
   "execution_count": 5,
   "id": "46e25a25",
   "metadata": {
    "execution": {
     "iopub.execute_input": "2025-08-31T16:18:19.126119Z",
     "iopub.status.busy": "2025-08-31T16:18:19.126119Z",
     "iopub.status.idle": "2025-08-31T16:18:19.210885Z",
     "shell.execute_reply": "2025-08-31T16:18:19.210885Z"
    }
   },
   "outputs": [
    {
     "name": "stdout",
     "output_type": "stream",
     "text": [
      "Saved processed data to ../data/processed/etf_features.parquet\n"
     ]
    }
   ],
   "source": [
    "PROCESSED_DATA_PATH = '../data/processed/etf_features.parquet'\n",
    "final_dataset.to_parquet(PROCESSED_DATA_PATH)\n",
    "print(f\"Saved processed data to {PROCESSED_DATA_PATH}\")"
   ]
  }
 ],
 "metadata": {
  "kernelspec": {
   "display_name": "Python 3",
   "language": "python",
   "name": "python3"
  },
  "language_info": {
   "codemirror_mode": {
    "name": "ipython",
    "version": 3
   },
   "file_extension": ".py",
   "mimetype": "text/x-python",
   "name": "python",
   "nbconvert_exporter": "python",
   "pygments_lexer": "ipython3",
   "version": "3.12.7"
  }
 },
 "nbformat": 4,
 "nbformat_minor": 5
}
