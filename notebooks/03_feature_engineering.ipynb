{
 "cells": [
  {
   "cell_type": "code",
   "execution_count": 1,
   "id": "b73c8055",
   "metadata": {
    "execution": {
     "iopub.execute_input": "2025-08-31T18:22:13.996042Z",
     "iopub.status.busy": "2025-08-31T18:22:13.996042Z",
     "iopub.status.idle": "2025-08-31T18:22:14.617678Z",
     "shell.execute_reply": "2025-08-31T18:22:14.617131Z"
    }
   },
   "outputs": [],
   "source": [
    "import pandas as pd\n",
    "import numpy as np\n",
    "import os\n",
    "import sys\n",
    "\n",
    "# Add the project root to the Python path\n",
    "project_root = os.path.abspath(os.path.join(os.getcwd(), '..'))\n",
    "if project_root not in sys.path:\n",
    "    sys.path.append(project_root)\n",
    "    \n",
    "from config import RAW_DATA_DIR, PROCESSED_DATA_PATH, ALL_TICKERS, TARGET_TICKER\n",
    "\n",
    "# Load all tickers into a single DataFrame\n",
    "all_data = []\n",
    "for ticker in ALL_TICKERS:\n",
    "    df = pd.read_csv(RAW_DATA_DIR / f'{ticker}.csv', index_col='Date', parse_dates=True)\n",
    "    all_data.append(df)\n",
    "\n",
    "# Concatenate along columns\n",
    "full_df = pd.concat(all_data, axis=1).dropna()\n"
   ]
  },
  {
   "cell_type": "code",
   "execution_count": 2,
   "id": "ad4f024a",
   "metadata": {
    "execution": {
     "iopub.execute_input": "2025-08-31T18:22:14.620408Z",
     "iopub.status.busy": "2025-08-31T18:22:14.620408Z",
     "iopub.status.idle": "2025-08-31T18:22:14.624975Z",
     "shell.execute_reply": "2025-08-31T18:22:14.624975Z"
    }
   },
   "outputs": [],
   "source": [
    "# Define the target: 1 if next day's close is higher, 0 otherwise\n",
    "full_df['target'] = (full_df['SPY'].shift(-1) > full_df['SPY']).astype(int)"
   ]
  },
  {
   "cell_type": "code",
   "execution_count": null,
   "id": "738ecd9e",
   "metadata": {},
   "outputs": [
    {
     "name": "stderr",
     "output_type": "stream",
     "text": [
      "Failed to get ticker 'UVXY' reason: Expecting value: line 1 column 1 (char 0)\n",
      "Failed to get ticker 'SPY' reason: Expecting value: line 1 column 1 (char 0)\n",
      "Failed to get ticker 'QQQ' reason: Expecting value: line 1 column 1 (char 0)\n",
      "Failed to get ticker 'TLT' reason: Expecting value: line 1 column 1 (char 0)\n",
      "[                       0%%                      ]Failed to get ticker 'GLD' reason: Expecting value: line 1 column 1 (char 0)\n",
      "[                       0%%                      ]Failed to get ticker 'AAPL' reason: Expecting value: line 1 column 1 (char 0)\n",
      "[********************* 43%%                      ]  3 of 7 completedFailed to get ticker 'MSFT' reason: Expecting value: line 1 column 1 (char 0)\n",
      "[*********************100%%**********************]  4 of 7 completed\n",
      "\n",
      "7 Failed downloads:\n",
      "[**********************86%%***************       ]  6 of 7 completed['UVXY', 'SPY', 'QQQ', 'TLT', 'GLD', 'AAPL', 'MSFT']: Exception('%ticker%: No timezone found, symbol may be delisted')\n"
     ]
    },
    {
     "name": "stdout",
     "output_type": "stream",
     "text": [
      "Attempting to download all ticker data...\n"
     ]
    },
    {
     "ename": "ConnectionError",
     "evalue": "Failed to download data from yfinance. The response was empty. This could be a network block or an API issue.",
     "output_type": "error",
     "traceback": [
      "\u001b[31m---------------------------------------------------------------------------\u001b[39m\n",
      "\u001b[31mConnectionError\u001b[39m                           Traceback (most recent call last)\n",
      "\u001b[36mCell\u001b[39m\u001b[36m \u001b[39m\u001b[32mIn[21]\u001b[39m\u001b[32m, line 23\u001b[39m\n",
      "\u001b[32m     20\u001b[39m \u001b[38;5;66;03m# --- ROBUSTNESS CHECK ---\u001b[39;00m\n",
      "\u001b[32m     21\u001b[39m \u001b[38;5;66;03m# Stop execution if the download failed and the DataFrame is empty.\u001b[39;00m\n",
      "\u001b[32m     22\u001b[39m \u001b[38;5;28;01mif\u001b[39;00m data.empty \u001b[38;5;129;01mor\u001b[39;00m \u001b[33m'\u001b[39m\u001b[33mClose\u001b[39m\u001b[33m'\u001b[39m \u001b[38;5;129;01mnot\u001b[39;00m \u001b[38;5;129;01min\u001b[39;00m data:\n",
      "\u001b[32m---> \u001b[39m\u001b[32m23\u001b[39m     \u001b[38;5;28;01mraise\u001b[39;00m \u001b[38;5;167;01mConnectionError\u001b[39;00m(\u001b[33m\"\u001b[39m\u001b[33mFailed to download data from yfinance. The response was empty. This could be a network block or an API issue.\u001b[39m\u001b[33m\"\u001b[39m)\n",
      "\u001b[32m     25\u001b[39m \u001b[38;5;28mprint\u001b[39m(\u001b[33m\"\u001b[39m\u001b[33mDownload successful.\u001b[39m\u001b[33m\"\u001b[39m)\n",
      "\u001b[32m     27\u001b[39m \u001b[38;5;66;03m# yfinance downloads a multi-level column DataFrame. Let's save each ticker's data.\u001b[39;00m\n",
      "\u001b[32m     28\u001b[39m \u001b[38;5;66;03m# We are primarily interested in 'Adj Close' as it accounts for splits and dividends.\u001b[39;00m\n",
      "\n",
      "\u001b[31mConnectionError\u001b[39m: Failed to download data from yfinance. The response was empty. This could be a network block or an API issue."
     ]
    }
   ],
   "source": [
    "# --- ROBUST DATA DOWNLOAD SCRIPT ---\n",
    "import requests\n",
    "\n",
    "# Create a session object to add a browser-like header\n",
    "session = requests.Session()\n",
    "headers = {\n",
    "    'User-Agent': 'Mozilla/5.0 (Windows NT 10.0; Win64; x64) AppleWebKit/537.36 (KHTML, like Gecko) Chrome/91.0.4472.124 Safari/537.36'\n",
    "}\n",
    "session.headers.update(headers)\n",
    "\n",
    "print(\"Attempting to download all ticker data...\")\n",
    "# Download the historical data for all tickers using the session\n",
    "data = yf.download(\n",
    "    ALL_TICKERS,\n",
    "    start=START_DATE,\n",
    "    end=END_DATE,\n",
    "    session=session  # <-- This is the crucial addition\n",
    ")\n",
    "\n",
    "# --- ROBUSTNESS CHECK ---\n",
    "# Stop execution if the download failed and the DataFrame is empty.\n",
    "if data.empty or 'Close' not in data:\n",
    "    raise ConnectionError(\"Failed to download data from yfinance. The response was empty. This could be a network block or an API issue.\")\n",
    "\n",
    "print(\"Download successful.\")\n",
    "\n",
    "# yfinance downloads a multi-level column DataFrame. Let's save each ticker's data.\n",
    "# We are primarily interested in 'Adj Close' as it accounts for splits and dividends.\n",
    "adj_close_data = data['Close']\n",
    "\n",
    "# Save each ticker's adjusted close price to a separate CSV file\n",
    "for ticker in ALL_TICKERS:\n",
    "    # Check if the ticker column exists and has data\n",
    "    if ticker in adj_close_data and not adj_close_data[ticker].dropna().empty:\n",
    "        ticker_data = adj_close_data[[ticker]].dropna()\n",
    "        file_path = os.path.join(RAW_DATA_DIR, f'{ticker}.csv')\n",
    "        ticker_data.to_csv(file_path)\n",
    "        print(f\"Saved raw data for {ticker} to {file_path}\")\n",
    "    else:\n",
    "        print(f\"Warning: No data found for {ticker} after download. Skipping file save.\")\n",
    "\n",
    "# Display the head of the SPY data to verify\n",
    "print(\"\\nSPY Raw Data Head:\")\n",
    "print(pd.read_csv(os.path.join(RAW_DATA_DIR, 'SPY.csv')).head())"
   ]
  },
  {
   "cell_type": "code",
   "execution_count": 3,
   "id": "12c85438",
   "metadata": {
    "execution": {
     "iopub.execute_input": "2025-08-31T18:22:14.627778Z",
     "iopub.status.busy": "2025-08-31T18:22:14.627778Z",
     "iopub.status.idle": "2025-08-31T18:22:14.651185Z",
     "shell.execute_reply": "2025-08-31T18:22:14.651185Z"
    }
   },
   "outputs": [],
   "source": [
    "# Feature Creation\n",
    "\n",
    "returns_df = full_df.drop('target', axis=1).pct_change()\n",
    "\n",
    "# Moving Averages\n",
    "full_df['spy_ma_50'] = full_df['SPY'].rolling(window=50).mean()\n",
    "full_df['spy_ma_200'] = full_df['SPY'].rolling(window=200).mean()\n",
    "\n",
    "# Relative Strength Index (RSI)\n",
    "delta = full_df['SPY'].diff()\n",
    "gain = (delta.where(delta > 0, 0)).rolling(window=14).mean()\n",
    "loss = (-delta.where(delta < 0, 0)).rolling(window=14).mean()\n",
    "rs = gain / loss\n",
    "full_df['spy_rsi'] = 100 - (100 / (1 + rs))\n",
    "\n",
    "for ticker in ALL_TICKERS:\n",
    "    for lag in [1, 3, 5, 10]:\n",
    "        returns_df[f'{ticker}_return_lag_{lag}'] = returns_df[ticker].shift(lag)\n",
    "\n",
    "full_df['spy_vol_30'] = returns_df['SPY'].rolling(window=30).std()"
   ]
  },
  {
   "cell_type": "code",
   "execution_count": 4,
   "id": "11ec8610",
   "metadata": {
    "execution": {
     "iopub.execute_input": "2025-08-31T18:22:14.654324Z",
     "iopub.status.busy": "2025-08-31T18:22:14.653324Z",
     "iopub.status.idle": "2025-08-31T18:22:14.674654Z",
     "shell.execute_reply": "2025-08-31T18:22:14.674654Z"
    }
   },
   "outputs": [
    {
     "name": "stdout",
     "output_type": "stream",
     "text": [
      "Final Dataset Shape: (3288, 33)\n",
      "Final Dataset Head:\n",
      "             spy_ma_50  spy_ma_200    spy_rsi  spy_vol_30  SPY_return_lag_1  \\\n",
      "Date                                                                          \n",
      "2012-07-19  105.600181  103.310573  68.404999    0.009913          0.007407   \n",
      "2012-07-20  105.622857  103.413266  51.627126    0.010106          0.002621   \n",
      "2012-07-23  105.619227  103.502369  44.246325    0.010235         -0.009148   \n",
      "2012-07-24  105.603668  103.578793  36.190600    0.010075         -0.010112   \n",
      "2012-07-25  105.612253  103.658380  38.218211    0.009873         -0.008587   \n",
      "\n",
      "            SPY_return_lag_3  SPY_return_lag_5  SPY_return_lag_10  \\\n",
      "Date                                                                \n",
      "2012-07-19         -0.002357         -0.004845          -0.004512   \n",
      "2012-07-20          0.006867          0.016778          -0.009504   \n",
      "2012-07-23          0.007407         -0.002357          -0.001255   \n",
      "2012-07-24          0.002621          0.006867          -0.008721   \n",
      "2012-07-25         -0.009148          0.007407           0.000150   \n",
      "\n",
      "            QQQ_return_lag_1  QQQ_return_lag_3  ...  GLD_return_lag_10  \\\n",
      "Date                                            ...                      \n",
      "2012-07-19          0.013537         -0.002840  ...          -0.011305   \n",
      "2012-07-20          0.011026          0.005221  ...          -0.012654   \n",
      "2012-07-23         -0.013210          0.013537  ...           0.002147   \n",
      "2012-07-24         -0.012142          0.011026  ...          -0.012270   \n",
      "2012-07-25         -0.007879         -0.013210  ...           0.005521   \n",
      "\n",
      "            AAPL_return_lag_1  AAPL_return_lag_3  AAPL_return_lag_5  \\\n",
      "Date                                                                  \n",
      "2012-07-19          -0.001121           0.003206          -0.009149   \n",
      "2012-07-20           0.013295           0.000050           0.010135   \n",
      "2012-07-23          -0.016311          -0.001121           0.003206   \n",
      "2012-07-24          -0.000778           0.013295           0.000050   \n",
      "2012-07-25          -0.004819          -0.016311          -0.001121   \n",
      "\n",
      "            AAPL_return_lag_10  MSFT_return_lag_1  MSFT_return_lag_3  \\\n",
      "Date                                                                   \n",
      "2012-07-19            0.017567           0.026635           0.001701   \n",
      "2012-07-20           -0.006656           0.007225           0.007473   \n",
      "2012-07-23            0.013221          -0.017933           0.026635   \n",
      "2012-07-24           -0.009253          -0.027889           0.007225   \n",
      "2012-07-25           -0.006215          -0.004440          -0.017933   \n",
      "\n",
      "            MSFT_return_lag_5  MSFT_return_lag_10  target  \n",
      "Date                                                       \n",
      "2012-07-19          -0.022867           -0.001950       0  \n",
      "2012-07-20           0.026545           -0.016613       0  \n",
      "2012-07-23           0.001701           -0.006293       0  \n",
      "2012-07-24           0.007473           -0.008667       1  \n",
      "2012-07-25           0.026635           -0.014795       1  \n",
      "\n",
      "[5 rows x 33 columns]\n"
     ]
    }
   ],
   "source": [
    "# Merge features - this requires careful index alignment\n",
    "features = pd.concat([\n",
    "    full_df[['spy_ma_50', 'spy_ma_200', 'spy_rsi', 'spy_vol_30']],\n",
    "    returns_df.drop(ALL_TICKERS, axis=1) # Drop the raw return columns, keep the lagged ones\n",
    "], axis=1)\n",
    "\n",
    "# Combine features with the target\n",
    "final_dataset = pd.concat([features, full_df['target']], axis=1)\n",
    "\n",
    "# Drop all rows with NaN values created by rolling windows and lags\n",
    "final_dataset.dropna(inplace=True)\n",
    "\n",
    "print(\"Final Dataset Shape:\", final_dataset.shape)\n",
    "print(\"Final Dataset Head:\")\n",
    "print(final_dataset.head())"
   ]
  },
  {
   "cell_type": "code",
   "execution_count": 5,
   "id": "46e25a25",
   "metadata": {
    "execution": {
     "iopub.execute_input": "2025-08-31T18:22:14.677681Z",
     "iopub.status.busy": "2025-08-31T18:22:14.677681Z",
     "iopub.status.idle": "2025-08-31T18:22:14.714846Z",
     "shell.execute_reply": "2025-08-31T18:22:14.714846Z"
    }
   },
   "outputs": [
    {
     "name": "stdout",
     "output_type": "stream",
     "text": [
      "Saved processed data to C:\\Users\\dawso\\Dev\\Personal\\AIGrind\\mlops-etf-forecasting\\data\\processed\\etf_features.parquet\n"
     ]
    }
   ],
   "source": [
    "final_dataset.to_parquet(PROCESSED_DATA_PATH)\n",
    "print(f\"Saved processed data to {PROCESSED_DATA_PATH}\")"
   ]
  }
 ],
 "metadata": {
  "kernelspec": {
   "display_name": "Python 3",
   "language": "python",
   "name": "python3"
  },
  "language_info": {
   "codemirror_mode": {
    "name": "ipython",
    "version": 3
   },
   "file_extension": ".py",
   "mimetype": "text/x-python",
   "name": "python",
   "nbconvert_exporter": "python",
   "pygments_lexer": "ipython3",
   "version": "3.12.7"
  }
 },
 "nbformat": 4,
 "nbformat_minor": 5
}
