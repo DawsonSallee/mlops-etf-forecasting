{
 "cells": [
  {
   "cell_type": "code",
   "execution_count": 1,
   "id": "49328322",
   "metadata": {
    "execution": {
     "iopub.execute_input": "2025-08-31T15:07:07.762467Z",
     "iopub.status.busy": "2025-08-31T15:07:07.762467Z",
     "iopub.status.idle": "2025-08-31T15:07:08.475076Z",
     "shell.execute_reply": "2025-08-31T15:07:08.475076Z"
    }
   },
   "outputs": [],
   "source": [
    "import yfinance as yf\n",
    "import pandas as pd \n",
    "import os"
   ]
  },
  {
   "cell_type": "code",
   "execution_count": 2,
   "id": "cdd63659",
   "metadata": {
    "execution": {
     "iopub.execute_input": "2025-08-31T15:07:08.477405Z",
     "iopub.status.busy": "2025-08-31T15:07:08.477405Z",
     "iopub.status.idle": "2025-08-31T15:07:08.481400Z",
     "shell.execute_reply": "2025-08-31T15:07:08.481400Z"
    }
   },
   "outputs": [],
   "source": [
    "# Define the target ETF and the feature tickers\n",
    "TARGET_TICKER = 'SPY'\n",
    "FEATURE_TICKERS = ['QQQ', 'UVXY', 'TLT', 'GLD', 'AAPL', 'MSFT']\n",
    "ALL_TICKERS = [TARGET_TICKER] + FEATURE_TICKERS\n",
    "\n",
    "# Define the time period for data download\n",
    "START_DATE = '2010-01-01'\n",
    "END_DATE = '2025-8-18'\n",
    "\n",
    "# Define the path for saving raw data\n",
    "RAW_DATA_DIR = '../data/raw'\n",
    "os.makedirs(RAW_DATA_DIR, exist_ok=True)"
   ]
  },
  {
   "cell_type": "code",
   "execution_count": 3,
   "id": "19643416",
   "metadata": {
    "execution": {
     "iopub.execute_input": "2025-08-31T15:07:08.483661Z",
     "iopub.status.busy": "2025-08-31T15:07:08.482662Z",
     "iopub.status.idle": "2025-08-31T15:07:09.411378Z",
     "shell.execute_reply": "2025-08-31T15:07:09.411378Z"
    }
   },
   "outputs": [
    {
     "name": "stderr",
     "output_type": "stream",
     "text": [
      "C:\\Users\\dawso\\AppData\\Local\\Temp\\ipykernel_31340\\270105754.py:2: FutureWarning: YF.download() has changed argument auto_adjust default to True\n",
      "  data = yf.download(ALL_TICKERS, start=START_DATE, end=END_DATE)\n"
     ]
    },
    {
     "name": "stderr",
     "output_type": "stream",
     "text": [
      "\r",
      "[                       0%                       ]"
     ]
    },
    {
     "name": "stderr",
     "output_type": "stream",
     "text": [
      "\r",
      "[**************        29%                       ]  2 of 7 completed"
     ]
    },
    {
     "name": "stderr",
     "output_type": "stream",
     "text": [
      "\r",
      "[********************* 43%                       ]  3 of 7 completed"
     ]
    },
    {
     "name": "stderr",
     "output_type": "stream",
     "text": [
      "\r",
      "[********************* 43%                       ]  3 of 7 completed"
     ]
    },
    {
     "name": "stderr",
     "output_type": "stream",
     "text": [
      "\r",
      "[**********************71%*********              ]  5 of 7 completed"
     ]
    },
    {
     "name": "stderr",
     "output_type": "stream",
     "text": [
      "\r",
      "[**********************86%****************       ]  6 of 7 completed"
     ]
    },
    {
     "name": "stderr",
     "output_type": "stream",
     "text": [
      "\r",
      "[*********************100%***********************]  7 of 7 completed"
     ]
    },
    {
     "name": "stderr",
     "output_type": "stream",
     "text": [
      "\n"
     ]
    },
    {
     "name": "stdout",
     "output_type": "stream",
     "text": [
      "Saved raw data for SPY to ../data/raw\\SPY.csv\n",
      "Saved raw data for QQQ to ../data/raw\\QQQ.csv\n",
      "Saved raw data for UVXY to ../data/raw\\UVXY.csv\n",
      "Saved raw data for TLT to ../data/raw\\TLT.csv\n",
      "Saved raw data for GLD to ../data/raw\\GLD.csv\n",
      "Saved raw data for AAPL to ../data/raw\\AAPL.csv\n",
      "Saved raw data for MSFT to ../data/raw\\MSFT.csv\n",
      "\n",
      "SPY Raw Data Head:\n",
      "         Date        SPY\n",
      "0  2010-01-04  85.515633\n",
      "1  2010-01-05  85.742004\n",
      "2  2010-01-06  85.802414\n",
      "3  2010-01-07  86.164566\n",
      "4  2010-01-08  86.451324\n"
     ]
    }
   ],
   "source": [
    "# Download the historical data for all tickers\n",
    "data = yf.download(ALL_TICKERS, start=START_DATE, end=END_DATE)\n",
    "\n",
    "# yfinance downloads a multi-level column DataFrame. Let's save each ticker's data.\n",
    "# We are primarily interested in 'Adj Close' as it accounts for splits and dividends.\n",
    "adj_close_data = data['Close']\n",
    "\n",
    "# Save each ticker's adjusted close price to a separate CSV file\n",
    "for ticker in ALL_TICKERS:\n",
    "    ticker_data = adj_close_data[[ticker]].dropna()\n",
    "    file_path = os.path.join(RAW_DATA_DIR, f'{ticker}.csv')\n",
    "    ticker_data.to_csv(file_path)\n",
    "    print(f\"Saved raw data for {ticker} to {file_path}\")\n",
    "\n",
    "# Display the head of the SPY data to verify\n",
    "print(\"\\nSPY Raw Data Head:\")\n",
    "print(pd.read_csv(os.path.join(RAW_DATA_DIR, 'SPY.csv')).head())"
   ]
  }
 ],
 "metadata": {
  "kernelspec": {
   "display_name": "Python 3",
   "language": "python",
   "name": "python3"
  },
  "language_info": {
   "codemirror_mode": {
    "name": "ipython",
    "version": 3
   },
   "file_extension": ".py",
   "mimetype": "text/x-python",
   "name": "python",
   "nbconvert_exporter": "python",
   "pygments_lexer": "ipython3",
   "version": "3.12.7"
  }
 },
 "nbformat": 4,
 "nbformat_minor": 5
}
