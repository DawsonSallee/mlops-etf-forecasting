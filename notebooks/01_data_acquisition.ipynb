{
 "cells": [
  {
   "cell_type": "code",
   "execution_count": 1,
   "id": "49328322",
   "metadata": {
    "execution": {
     "iopub.execute_input": "2025-08-31T18:32:56.378634Z",
     "iopub.status.busy": "2025-08-31T18:32:56.378634Z",
     "iopub.status.idle": "2025-08-31T18:32:57.147498Z",
     "shell.execute_reply": "2025-08-31T18:32:57.147498Z"
    }
   },
   "outputs": [],
   "source": [
    "import yfinance as yf\n",
    "import pandas as pd \n",
    "import os\n",
    "import sys\n",
    "\n",
    "# Add the project root to the Python path to allow for module imports\n",
    "project_root = os.path.abspath(os.path.join(os.getcwd(), '..'))\n",
    "if project_root not in sys.path:\n",
    "    sys.path.append(project_root)"
   ]
  },
  {
   "cell_type": "code",
   "execution_count": 2,
   "id": "cdd63659",
   "metadata": {
    "execution": {
     "iopub.execute_input": "2025-08-31T18:32:57.150003Z",
     "iopub.status.busy": "2025-08-31T18:32:57.150003Z",
     "iopub.status.idle": "2025-08-31T18:32:57.155982Z",
     "shell.execute_reply": "2025-08-31T18:32:57.155369Z"
    }
   },
   "outputs": [],
   "source": [
    "from config import RAW_DATA_DIR, ALL_TICKERS, START_DATE, END_DATE\n",
    "\n",
    "os.makedirs(RAW_DATA_DIR, exist_ok=True)"
   ]
  },
  {
   "cell_type": "code",
   "execution_count": 3,
   "id": "19643416",
   "metadata": {
    "execution": {
     "iopub.execute_input": "2025-08-31T18:32:57.155982Z",
     "iopub.status.busy": "2025-08-31T18:32:57.155982Z",
     "iopub.status.idle": "2025-08-31T18:32:58.292986Z",
     "shell.execute_reply": "2025-08-31T18:32:58.292986Z"
    }
   },
   "outputs": [
    {
     "name": "stderr",
     "output_type": "stream",
     "text": [
      "C:\\Users\\dawso\\AppData\\Local\\Temp\\ipykernel_34412\\270105754.py:2: FutureWarning: YF.download() has changed argument auto_adjust default to True\n",
      "  data = yf.download(ALL_TICKERS, start=START_DATE, end=END_DATE)\n"
     ]
    },
    {
     "name": "stderr",
     "output_type": "stream",
     "text": [
      "\r",
      "[                       0%                       ]"
     ]
    },
    {
     "name": "stderr",
     "output_type": "stream",
     "text": [
      "\r",
      "[**************        29%                       ]  2 of 7 completed"
     ]
    },
    {
     "name": "stderr",
     "output_type": "stream",
     "text": [
      "\r",
      "[********************* 43%                       ]  3 of 7 completed"
     ]
    },
    {
     "name": "stderr",
     "output_type": "stream",
     "text": [
      "\r",
      "[**********************57%**                     ]  4 of 7 completed"
     ]
    },
    {
     "name": "stderr",
     "output_type": "stream",
     "text": [
      "\r",
      "[**********************71%*********              ]  5 of 7 completed"
     ]
    },
    {
     "name": "stderr",
     "output_type": "stream",
     "text": [
      "\r",
      "[**********************86%****************       ]  6 of 7 completed"
     ]
    },
    {
     "name": "stderr",
     "output_type": "stream",
     "text": [
      "\r",
      "[*********************100%***********************]  7 of 7 completed"
     ]
    },
    {
     "name": "stdout",
     "output_type": "stream",
     "text": [
      "Saved raw data for SPY to C:\\Users\\dawso\\Dev\\Personal\\AIGrind\\mlops-etf-forecasting\\data\\raw\\SPY.csv\n",
      "Saved raw data for QQQ to C:\\Users\\dawso\\Dev\\Personal\\AIGrind\\mlops-etf-forecasting\\data\\raw\\QQQ.csv\n",
      "Saved raw data for UVXY to C:\\Users\\dawso\\Dev\\Personal\\AIGrind\\mlops-etf-forecasting\\data\\raw\\UVXY.csv\n",
      "Saved raw data for TLT to C:\\Users\\dawso\\Dev\\Personal\\AIGrind\\mlops-etf-forecasting\\data\\raw\\TLT.csv\n",
      "Saved raw data for GLD to C:\\Users\\dawso\\Dev\\Personal\\AIGrind\\mlops-etf-forecasting\\data\\raw\\GLD.csv\n",
      "Saved raw data for AAPL to C:\\Users\\dawso\\Dev\\Personal\\AIGrind\\mlops-etf-forecasting\\data\\raw\\AAPL.csv\n",
      "Saved raw data for MSFT to C:\\Users\\dawso\\Dev\\Personal\\AIGrind\\mlops-etf-forecasting\\data\\raw\\MSFT.csv\n",
      "\n",
      "SPY Raw Data Head:\n",
      "         Date        SPY\n",
      "0  2010-01-04  85.515633\n",
      "1  2010-01-05  85.742012\n",
      "2  2010-01-06  85.802330\n",
      "3  2010-01-07  86.164574\n",
      "4  2010-01-08  86.451332\n"
     ]
    },
    {
     "name": "stderr",
     "output_type": "stream",
     "text": [
      "\n"
     ]
    }
   ],
   "source": [
    "# Download the historical data for all tickers\n",
    "data = yf.download(ALL_TICKERS, start=START_DATE, end=END_DATE)\n",
    "\n",
    "# yfinance downloads a multi-level column DataFrame. Let's save each ticker's data.\n",
    "# We are primarily interested in 'Adj Close' as it accounts for splits and dividends.\n",
    "adj_close_data = data['Close']\n",
    "\n",
    "# Save each ticker's adjusted close price to a separate CSV file\n",
    "for ticker in ALL_TICKERS:\n",
    "    ticker_data = adj_close_data[[ticker]].dropna()\n",
    "    file_path = os.path.join(RAW_DATA_DIR, f'{ticker}.csv')\n",
    "    ticker_data.to_csv(file_path)\n",
    "    print(f\"Saved raw data for {ticker} to {file_path}\")\n",
    "\n",
    "# Display the head of the SPY data to verify\n",
    "print(\"\\nSPY Raw Data Head:\")\n",
    "print(pd.read_csv(os.path.join(RAW_DATA_DIR, 'SPY.csv')).head())"
   ]
  }
 ],
 "metadata": {
  "kernelspec": {
   "display_name": "Python 3",
   "language": "python",
   "name": "python3"
  },
  "language_info": {
   "codemirror_mode": {
    "name": "ipython",
    "version": 3
   },
   "file_extension": ".py",
   "mimetype": "text/x-python",
   "name": "python",
   "nbconvert_exporter": "python",
   "pygments_lexer": "ipython3",
   "version": "3.12.7"
  }
 },
 "nbformat": 4,
 "nbformat_minor": 5
}
