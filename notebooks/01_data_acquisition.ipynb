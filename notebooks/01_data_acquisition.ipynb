{
 "cells": [
  {
   "cell_type": "code",
   "execution_count": 1,
   "id": "d87ff092",
   "metadata": {
    "execution": {
     "iopub.execute_input": "2025-08-31T14:25:31.006760Z",
     "iopub.status.busy": "2025-08-31T14:25:31.006760Z",
     "iopub.status.idle": "2025-08-31T14:25:31.718585Z",
     "shell.execute_reply": "2025-08-31T14:25:31.718585Z"
    }
   },
   "outputs": [],
   "source": [
    "import yfinance as yf\n",
    "import pandas as pd \n",
    "import os"
   ]
  },
  {
   "cell_type": "code",
   "execution_count": 2,
   "id": "7f467be9",
   "metadata": {
    "execution": {
     "iopub.execute_input": "2025-08-31T14:25:31.721596Z",
     "iopub.status.busy": "2025-08-31T14:25:31.720590Z",
     "iopub.status.idle": "2025-08-31T14:25:31.724833Z",
     "shell.execute_reply": "2025-08-31T14:25:31.724833Z"
    }
   },
   "outputs": [],
   "source": [
    "# Define the target ETF and the feature tickers\n",
    "TARGET_TICKER = 'SPY'\n",
    "FEATURE_TICKERS = ['QQQ', 'UVXY', 'TLT', 'GLD', 'AAPL', 'MSFT']\n",
    "ALL_TICKERS = [TARGET_TICKER] + FEATURE_TICKERS\n",
    "\n",
    "# Define the time period for data download\n",
    "START_DATE = '2010-01-01'\n",
    "END_DATE = '2025-8-18'\n",
    "\n",
    "# Define the path for saving raw data\n",
    "RAW_DATA_DIR = '../data/raw'\n",
    "os.makedirs(RAW_DATA_DIR, exist_ok=True)"
   ]
  },
  {
   "cell_type": "code",
   "execution_count": 3,
   "id": "d4955ced",
   "metadata": {
    "execution": {
     "iopub.execute_input": "2025-08-31T14:25:31.726847Z",
     "iopub.status.busy": "2025-08-31T14:25:31.726847Z",
     "iopub.status.idle": "2025-08-31T14:25:35.087756Z",
     "shell.execute_reply": "2025-08-31T14:25:35.087756Z"
    }
   },
   "outputs": [
    {
     "name": "stderr",
     "output_type": "stream",
     "text": [
      "Failed to get ticker 'AAPL' reason: Expecting value: line 1 column 1 (char 0)\n"
     ]
    },
    {
     "name": "stderr",
     "output_type": "stream",
     "text": [
      "\r",
      "[                       0%%                      ]"
     ]
    },
    {
     "name": "stderr",
     "output_type": "stream",
     "text": [
      "Failed to get ticker 'SPY' reason: Expecting value: line 1 column 1 (char 0)\n"
     ]
    },
    {
     "name": "stderr",
     "output_type": "stream",
     "text": [
      "Failed to get ticker 'UVXY' reason: Expecting value: line 1 column 1 (char 0)\n"
     ]
    },
    {
     "name": "stderr",
     "output_type": "stream",
     "text": [
      "Failed to get ticker 'QQQ' reason: Expecting value: line 1 column 1 (char 0)\n",
      "\r",
      "[**************        29%%                      ]  2 of 7 completed"
     ]
    },
    {
     "name": "stderr",
     "output_type": "stream",
     "text": [
      "\r",
      "[********************* 43%%                      ]  3 of 7 completed"
     ]
    },
    {
     "name": "stderr",
     "output_type": "stream",
     "text": [
      "Failed to get ticker 'TLT' reason: Expecting value: line 1 column 1 (char 0)\n"
     ]
    },
    {
     "name": "stderr",
     "output_type": "stream",
     "text": [
      "Failed to get ticker 'MSFT' reason: Expecting value: line 1 column 1 (char 0)\n"
     ]
    },
    {
     "name": "stderr",
     "output_type": "stream",
     "text": [
      "\r",
      "[**********************57%%*                     ]  4 of 7 completed"
     ]
    },
    {
     "name": "stderr",
     "output_type": "stream",
     "text": [
      "\r",
      "[**********************57%%*                     ]  4 of 7 completed"
     ]
    },
    {
     "name": "stderr",
     "output_type": "stream",
     "text": [
      "Failed to get ticker 'GLD' reason: Expecting value: line 1 column 1 (char 0)\n"
     ]
    },
    {
     "name": "stderr",
     "output_type": "stream",
     "text": [
      "\r",
      "[**********************86%%***************       ]  6 of 7 completed"
     ]
    },
    {
     "name": "stderr",
     "output_type": "stream",
     "text": [
      "\r",
      "[*********************100%%**********************]  7 of 7 completed"
     ]
    },
    {
     "name": "stderr",
     "output_type": "stream",
     "text": [
      "\n",
      "\n",
      "7 Failed downloads:\n"
     ]
    },
    {
     "name": "stderr",
     "output_type": "stream",
     "text": [
      "['AAPL', 'SPY', 'UVXY', 'QQQ', 'TLT', 'MSFT', 'GLD']: Exception('%ticker%: No timezone found, symbol may be delisted')\n"
     ]
    },
    {
     "name": "stdout",
     "output_type": "stream",
     "text": [
      "Saved raw data for SPY to ../data/raw\\SPY.csv\n",
      "Saved raw data for QQQ to ../data/raw\\QQQ.csv\n",
      "Saved raw data for UVXY to ../data/raw\\UVXY.csv\n",
      "Saved raw data for TLT to ../data/raw\\TLT.csv\n",
      "Saved raw data for GLD to ../data/raw\\GLD.csv\n",
      "Saved raw data for AAPL to ../data/raw\\AAPL.csv\n",
      "Saved raw data for MSFT to ../data/raw\\MSFT.csv\n",
      "\n",
      "SPY Raw Data Head:\n",
      "Empty DataFrame\n",
      "Columns: [Date, SPY]\n",
      "Index: []\n"
     ]
    }
   ],
   "source": [
    "# Download the historical data for all tickers\n",
    "data = yf.download(ALL_TICKERS, start=START_DATE, end=END_DATE)\n",
    "\n",
    "# yfinance downloads a multi-level column DataFrame. Let's save each ticker's data.\n",
    "# We are primarily interested in 'Adj Close' as it accounts for splits and dividends.\n",
    "adj_close_data = data['Close']\n",
    "\n",
    "# Save each ticker's adjusted close price to a separate CSV file\n",
    "for ticker in ALL_TICKERS:\n",
    "    ticker_data = adj_close_data[[ticker]].dropna()\n",
    "    file_path = os.path.join(RAW_DATA_DIR, f'{ticker}.csv')\n",
    "    ticker_data.to_csv(file_path)\n",
    "    print(f\"Saved raw data for {ticker} to {file_path}\")\n",
    "\n",
    "# Display the head of the SPY data to verify\n",
    "print(\"\\nSPY Raw Data Head:\")\n",
    "print(pd.read_csv(os.path.join(RAW_DATA_DIR, 'SPY.csv')).head())"
   ]
  },
  {
   "cell_type": "code",
   "execution_count": null,
   "id": "fa21ee38-14c5-4cf0-b633-8358cfd04c0f",
   "metadata": {},
   "outputs": [],
   "source": []
  }
 ],
 "metadata": {
  "kernelspec": {
   "display_name": "Python 3",
   "language": "python",
   "name": "python3"
  },
  "language_info": {
   "codemirror_mode": {
    "name": "ipython",
    "version": 3
   },
   "file_extension": ".py",
   "mimetype": "text/x-python",
   "name": "python",
   "nbconvert_exporter": "python",
   "pygments_lexer": "ipython3",
   "version": "3.12.7"
  }
 },
 "nbformat": 4,
 "nbformat_minor": 5
}
